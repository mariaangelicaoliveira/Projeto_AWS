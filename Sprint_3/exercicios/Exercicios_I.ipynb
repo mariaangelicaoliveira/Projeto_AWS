{
  "cells": [
    {
      "cell_type": "markdown",
      "metadata": {
        "id": "7NrmMG4mE5lY"
      },
      "source": [
        "# Seção 3 - Exercícios Parte I -  1/2"
      ]
    },
    {
      "cell_type": "markdown",
      "metadata": {},
      "source": [
        "### EXERCÍCIO  1\n"
      ]
    },
    {
      "cell_type": "code",
      "execution_count": 1,
      "metadata": {
        "colab": {
          "base_uri": "https://localhost:8080/"
        },
        "id": "8xlSNjnNEt0Y",
        "outputId": "f5d9814e-b6c8-44ae-b474-8d1b98b9f9fe"
      },
      "outputs": [
        {
          "name": "stdout",
          "output_type": "stream",
          "text": [
            "2091\n"
          ]
        }
      ],
      "source": [
        "nome = \"Angelica\"\n",
        "idade = 33\n",
        "idadecalc = (100 - idade)\n",
        "ano = 2024\n",
        "ano100 = ano + idadecalc\n",
        "print(ano100)"
      ]
    },
    {
      "cell_type": "markdown",
      "metadata": {
        "id": "Z4VU1OJqGMuw"
      },
      "source": [
        "### EXERCÍCIO  2"
      ]
    },
    {
      "cell_type": "code",
      "execution_count": 2,
      "metadata": {
        "colab": {
          "base_uri": "https://localhost:8080/"
        },
        "id": "CDzIF_KSFvgG",
        "outputId": "22477773-9aeb-4ed3-bb2f-540c18276c81"
      },
      "outputs": [
        {
          "name": "stdout",
          "output_type": "stream",
          "text": [
            "Par: 0\n",
            "Ímpar: 1\n",
            "Par: 2\n"
          ]
        }
      ],
      "source": [
        "numeros = []\n",
        "for i in range(3):\n",
        "    num = int(i)\n",
        "    numeros.append(num)\n",
        "\n",
        "\n",
        "for num in numeros:\n",
        "    if num % 2 == 0:\n",
        "        print(\"Par:\", num)\n",
        "    else:\n",
        "        print(\"Ímpar:\", num)"
      ]
    },
    {
      "cell_type": "markdown",
      "metadata": {
        "id": "pvRxVhA6GIn5"
      },
      "source": [
        "### EXERCÍCIO  3\n",
        "\n",
        "\n"
      ]
    },
    {
      "cell_type": "code",
      "execution_count": 3,
      "metadata": {
        "id": "Ji2EfQdAGC_6"
      },
      "outputs": [
        {
          "name": "stdout",
          "output_type": "stream",
          "text": [
            "0\n",
            "2\n",
            "4\n",
            "6\n",
            "8\n",
            "10\n",
            "12\n",
            "14\n",
            "16\n",
            "18\n",
            "20\n"
          ]
        }
      ],
      "source": [
        "for num in range(0, 21, 2):\n",
        "    print(num)"
      ]
    },
    {
      "cell_type": "markdown",
      "metadata": {
        "id": "JVzclOnHGZpM"
      },
      "source": [
        "### EXERCÍCIO  4"
      ]
    },
    {
      "cell_type": "code",
      "execution_count": 4,
      "metadata": {
        "colab": {
          "base_uri": "https://localhost:8080/"
        },
        "id": "Y2UCz4c2GTYk",
        "outputId": "13b473bc-1475-4c8e-9018-8aecf139332e"
      },
      "outputs": [
        {
          "name": "stdout",
          "output_type": "stream",
          "text": [
            "2\n",
            "3\n",
            "5\n",
            "7\n",
            "11\n",
            "13\n",
            "17\n",
            "19\n",
            "23\n",
            "29\n",
            "31\n",
            "37\n",
            "41\n",
            "43\n",
            "47\n",
            "53\n",
            "59\n",
            "61\n",
            "67\n",
            "71\n",
            "73\n",
            "79\n",
            "83\n",
            "89\n",
            "97\n"
          ]
        }
      ],
      "source": [
        "def is_prime(num):\n",
        "    if num <= 1:\n",
        "        return False\n",
        "    for i in range(2, int(num ** 0.5) + 1):\n",
        "        if num % i == 0:\n",
        "            return False\n",
        "    return True\n",
        "\n",
        "\n",
        "for num in range(1, 101):\n",
        "    if is_prime(num):\n",
        "        print(num)\n"
      ]
    },
    {
      "cell_type": "markdown",
      "metadata": {
        "id": "vxVWQLNFGmPN"
      },
      "source": [
        "### EXERCÍCIO  5"
      ]
    },
    {
      "cell_type": "code",
      "execution_count": 5,
      "metadata": {
        "colab": {
          "base_uri": "https://localhost:8080/"
        },
        "id": "AFJyKIzKGhYl",
        "outputId": "3c4d87cf-9008-44a2-fb00-0acc1105d3ac"
      },
      "outputs": [
        {
          "name": "stdout",
          "output_type": "stream",
          "text": [
            "22/10/2022\n"
          ]
        }
      ],
      "source": [
        "dia = 22\n",
        "mes = 10\n",
        "ano = 2022\n",
        "print(f\"{dia}/{mes}/{ano}\")"
      ]
    },
    {
      "cell_type": "markdown",
      "metadata": {
        "id": "HEj9y1IBHCTo"
      },
      "source": [
        "# Seção 4 - Exercícios Parte I -  2/2"
      ]
    },
    {
      "cell_type": "markdown",
      "metadata": {
        "id": "nyRkVsZvHb6T"
      },
      "source": [
        "### EXERCÍCIO  6"
      ]
    },
    {
      "cell_type": "code",
      "execution_count": 6,
      "metadata": {
        "colab": {
          "base_uri": "https://localhost:8080/"
        },
        "id": "eBIoKliWGtxY",
        "outputId": "242a8449-657d-4e96-d27c-4b48c8b5979d"
      },
      "outputs": [
        {
          "name": "stdout",
          "output_type": "stream",
          "text": [
            "[1, 2, 3, 5, 8, 14]\n"
          ]
        }
      ],
      "source": [
        "a = [1, 1, 2, 3, 5, 8, 14, 21, 34, 55, 89]\n",
        "b = [1, 2, 3, 4, 5, 6, 7, 8, 9, 10, 11, 12, 13, 14, 15]\n",
        "\n",
        "intersecao = set(a) & set(b)\n",
        "print(list(intersecao))"
      ]
    },
    {
      "cell_type": "markdown",
      "metadata": {
        "id": "-R5WggtnIKNH"
      },
      "source": [
        "### EXERCÍCIO 7"
      ]
    },
    {
      "cell_type": "code",
      "execution_count": 7,
      "metadata": {
        "colab": {
          "base_uri": "https://localhost:8080/"
        },
        "id": "LfULgjlIIEg1",
        "outputId": "8aa5758b-dc61-4015-95aa-3b17132de9e4"
      },
      "outputs": [
        {
          "name": "stdout",
          "output_type": "stream",
          "text": [
            "[1, 9, 25, 49, 81]\n"
          ]
        }
      ],
      "source": [
        "a = [1, 4, 9, 16, 25, 36, 49, 64, 81, 100]\n",
        "\n",
        "impares = []\n",
        "for numero in a:\n",
        "  if numero % 2 != 0:\n",
        "    impares.append(numero)\n",
        "\n",
        "print(impares)\n"
      ]
    },
    {
      "cell_type": "markdown",
      "metadata": {
        "id": "ARCZGTmuIJDM"
      },
      "source": [
        "### EXERCÍCIO 8"
      ]
    },
    {
      "cell_type": "code",
      "execution_count": 8,
      "metadata": {
        "colab": {
          "base_uri": "https://localhost:8080/"
        },
        "id": "CYsJkh5VImHt",
        "outputId": "aba9169d-df3e-4e20-c96a-3ac696c9aa8c"
      },
      "outputs": [
        {
          "name": "stdout",
          "output_type": "stream",
          "text": [
            "A palavra: maça não é um palíndromo\n",
            "A palavra: arara é um palíndromo\n",
            "A palavra: audio não é um palíndromo\n",
            "A palavra: radio não é um palíndromo\n",
            "A palavra: radar é um palíndromo\n",
            "A palavra: moto não é um palíndromo\n"
          ]
        }
      ],
      "source": [
        "palavras = ['maça', 'arara', 'audio', 'radio', 'radar', 'moto']\n",
        "\n",
        "for palavra in palavras:\n",
        "  if palavra[::-1] == palavra:\n",
        "    print(f\"A palavra: {palavra} é um palíndromo\")\n",
        "  else:\n",
        "    print(f\"A palavra: {palavra} não é um palíndromo\")"
      ]
    },
    {
      "cell_type": "markdown",
      "metadata": {
        "id": "q1Y6skSKIutN"
      },
      "source": [
        "### EXERCÍCIO 9"
      ]
    },
    {
      "cell_type": "code",
      "execution_count": 9,
      "metadata": {
        "colab": {
          "base_uri": "https://localhost:8080/"
        },
        "id": "RnWP1xISIyXB",
        "outputId": "ed506b61-69b0-4f8f-e9a7-8878fba2fe3b"
      },
      "outputs": [
        {
          "name": "stdout",
          "output_type": "stream",
          "text": [
            "0 - Joao Soares está com 19 anos\n",
            "1 - Douglas Souza está com 28 anos\n",
            "2 - Lucas Silveira está com 25 anos\n",
            "3 - José Pedreira está com 31 anos\n"
          ]
        }
      ],
      "source": [
        "primeirosNomes = ['Joao', 'Douglas', 'Lucas', 'José']\n",
        "sobreNomes = ['Soares', 'Souza', 'Silveira', 'Pedreira']\n",
        "idades = [19, 28, 25, 31]\n",
        "\n",
        "for i, nome in enumerate(primeirosNomes):\n",
        "  sobrenome = sobreNomes[i]\n",
        "  idade = idades[i]\n",
        "  print(f\"{i} - {nome} {sobrenome} está com {idade} anos\")"
      ]
    },
    {
      "cell_type": "markdown",
      "metadata": {
        "id": "3Bfym6rkI96z"
      },
      "source": [
        "### EXERCÍCIO 10"
      ]
    },
    {
      "cell_type": "code",
      "execution_count": 10,
      "metadata": {
        "colab": {
          "base_uri": "https://localhost:8080/"
        },
        "id": "PLyEsGt9JCTP",
        "outputId": "313578f9-4cf5-4858-8d9e-4cc8505c3a9f"
      },
      "outputs": [
        {
          "name": "stdout",
          "output_type": "stream",
          "text": [
            "['abc', '123']\n"
          ]
        }
      ],
      "source": [
        "def remove_duplicatas(lista):\n",
        "    elementos_unicos = set()\n",
        "    indices_unicos = []\n",
        "\n",
        "    for indice, elemento in enumerate(lista):\n",
        "        if elemento not in elementos_unicos:\n",
        "            elementos_unicos.add(elemento)\n",
        "            indices_unicos.append(indice)\n",
        "\n",
        "    lista_sem_duplicatas = [lista[indice] for indice in indices_unicos]\n",
        "\n",
        "    return lista_sem_duplicatas\n",
        "\n",
        "lista_exemplo = ['abc', 'abc', 'abc', '123', 'abc', '123', '123']\n",
        "\n",
        "print(remove_duplicatas(lista_exemplo))"
      ]
    },
    {
      "cell_type": "markdown",
      "metadata": {
        "id": "cg77J78IJXlH"
      },
      "source": [
        "### EXERCÍCIO 11"
      ]
    },
    {
      "cell_type": "code",
      "execution_count": null,
      "metadata": {
        "id": "yhYc1d2LJa0L"
      },
      "outputs": [],
      "source": [
        "import json\n",
        "\n",
        "caminho_arquivo = 'person.json'\n",
        "\n",
        "with open(caminho_arquivo, 'r') as arquivo:\n",
        "    dados_json = json.load(arquivo)\n",
        "\n",
        "print(dados_json)"
      ]
    },
    {
      "cell_type": "markdown",
      "metadata": {
        "id": "TUSXs5sSJ5Ip"
      },
      "source": [
        "### EXERCÍCIO 12"
      ]
    },
    {
      "cell_type": "code",
      "execution_count": null,
      "metadata": {
        "colab": {
          "base_uri": "https://localhost:8080/"
        },
        "id": "EAi0rzkfJuuK",
        "outputId": "5c0da24f-b722-492b-819d-daaf9d4ed7f9"
      },
      "outputs": [
        {
          "name": "stdout",
          "output_type": "stream",
          "text": [
            "[1, 4, 9, 16, 25, 36, 49, 64, 81, 100]\n"
          ]
        }
      ],
      "source": [
        "def my_map(lista, funcao):\n",
        "    lista_resultante = [funcao(elemento) for elemento in lista]\n",
        "    return lista_resultante\n",
        "\n",
        "def potencia_de_2(numero):\n",
        "    return numero ** 2\n",
        "\n",
        "lista_entrada = [1, 2, 3, 4, 5, 6, 7, 8, 9, 10]\n",
        "\n",
        "lista_resultante = my_map(lista_entrada, potencia_de_2)\n",
        "\n",
        "print(lista_resultante)"
      ]
    },
    {
      "cell_type": "markdown",
      "metadata": {
        "id": "K7etaKo_J8Yv"
      },
      "source": [
        "### EXERCÍCIO 13"
      ]
    },
    {
      "cell_type": "code",
      "execution_count": null,
      "metadata": {
        "id": "_Fcv7PPYJ9Eo"
      },
      "outputs": [],
      "source": [
        "with open('arquivo_texto.txt', 'r') as arquivo:\n",
        "    conteudo = arquivo.read()\n",
        "    print(conteudo, end='')"
      ]
    },
    {
      "cell_type": "markdown",
      "metadata": {
        "id": "yPy_g6inKNWB"
      },
      "source": [
        "### EXERCÍCIO 14"
      ]
    },
    {
      "cell_type": "code",
      "execution_count": null,
      "metadata": {
        "colab": {
          "base_uri": "https://localhost:8080/"
        },
        "id": "Garp9X9yKJbi",
        "outputId": "fd096cca-be44-4514-9bd6-66c25f65821d"
      },
      "outputs": [
        {
          "name": "stdout",
          "output_type": "stream",
          "text": [
            "1\n",
            "3\n",
            "4\n",
            "hello\n",
            "alguma coisa\n",
            "20\n"
          ]
        }
      ],
      "source": [
        "def imprimir_parametros(*args, **kwargs):\n",
        "\n",
        "    for arg in args:\n",
        "        print(arg)\n",
        "\n",
        "    for key, value in kwargs.items():\n",
        "        print(value)\n",
        "\n",
        "imprimir_parametros(1, 3, 4, 'hello', parametro_nomeado='alguma coisa', x=20)"
      ]
    },
    {
      "cell_type": "markdown",
      "metadata": {
        "id": "6b-bhJbmKSR_"
      },
      "source": [
        "### EXERCÍCIO 15"
      ]
    },
    {
      "cell_type": "code",
      "execution_count": null,
      "metadata": {
        "colab": {
          "base_uri": "https://localhost:8080/"
        },
        "id": "dygDBUqUKS7Y",
        "outputId": "45b343a6-9001-4947-c228-086fc4a32903"
      },
      "outputs": [
        {
          "name": "stdout",
          "output_type": "stream",
          "text": [
            "A lâmpada está ligada? True\n",
            "A lâmpada ainda está ligada? False\n"
          ]
        }
      ],
      "source": [
        "class Lampada:\n",
        "    def __init__(self, ligada=False):\n",
        "        self.ligada = ligada\n",
        "\n",
        "    def liga(self):\n",
        "        self.ligada = True\n",
        "\n",
        "    def desliga(self):\n",
        "        self.ligada = False\n",
        "\n",
        "    def esta_ligada(self):\n",
        "        return self.ligada\n",
        "\n",
        "minha_lampada = Lampada()\n",
        "\n",
        "minha_lampada.liga()\n",
        "\n",
        "print(\"A lâmpada está ligada?\", minha_lampada.esta_ligada())\n",
        "\n",
        "minha_lampada.desliga()\n",
        "\n",
        "print(\"A lâmpada ainda está ligada?\", minha_lampada.esta_ligada())\n"
      ]
    },
    {
      "cell_type": "markdown",
      "metadata": {
        "id": "Vd4SkPPbKnng"
      },
      "source": [
        "### EXERCÍCIO 16"
      ]
    },
    {
      "cell_type": "code",
      "execution_count": null,
      "metadata": {
        "colab": {
          "base_uri": "https://localhost:8080/"
        },
        "id": "Jkqp-DMJKoZT",
        "outputId": "27370ad3-4e30-4105-df51-536ac68c04e4"
      },
      "outputs": [
        {
          "name": "stdout",
          "output_type": "stream",
          "text": [
            "100\n"
          ]
        }
      ],
      "source": [
        "def soma_numeros_separados_por_virgula(string_numeros):\n",
        "\n",
        "    numeros = string_numeros.split(',')\n",
        "    soma = sum(map(int, numeros))\n",
        "    return soma\n",
        "\n",
        "string_exemplo = \"1,3,4,6,10,76\"\n",
        "resultado = soma_numeros_separados_por_virgula(string_exemplo)\n",
        "\n",
        "print(resultado)"
      ]
    },
    {
      "cell_type": "markdown",
      "metadata": {
        "id": "FHKyKSApKypi"
      },
      "source": [
        "### EXERCÍCIO 17"
      ]
    },
    {
      "cell_type": "code",
      "execution_count": null,
      "metadata": {
        "colab": {
          "base_uri": "https://localhost:8080/"
        },
        "id": "Ur8xLJ-DKzKn",
        "outputId": "46227ecf-2178-4dd4-a682-e23ebda4f56e"
      },
      "outputs": [
        {
          "name": "stdout",
          "output_type": "stream",
          "text": [
            "[1, 2, 3, 4] [5, 6, 7, 8] [9, 10, 11, 12]\n"
          ]
        }
      ],
      "source": [
        "def dividir_lista_em_tres_partes(lista):\n",
        "\n",
        "    tamanho_parte = len(lista) // 3\n",
        "    parte1 = lista[:tamanho_parte]\n",
        "    parte2 = lista[tamanho_parte:2*tamanho_parte]\n",
        "    parte3 = lista[2*tamanho_parte:]\n",
        "    return parte1, parte2, parte3\n",
        "\n",
        "minha_lista = [1, 2, 3, 4, 5, 6, 7, 8, 9, 10, 11, 12]\n",
        "parte1, parte2, parte3 = dividir_lista_em_tres_partes(minha_lista)\n",
        "\n",
        "print(parte1, parte2, parte3)\n"
      ]
    },
    {
      "cell_type": "markdown",
      "metadata": {
        "id": "zr4lNEe0K-II"
      },
      "source": [
        "### EXERCÍCIO 18"
      ]
    },
    {
      "cell_type": "code",
      "execution_count": null,
      "metadata": {
        "colab": {
          "base_uri": "https://localhost:8080/"
        },
        "id": "vbIHRJl7K-oV",
        "outputId": "19358579-13ec-4459-aff4-08e2c44e32d8"
      },
      "outputs": [
        {
          "name": "stdout",
          "output_type": "stream",
          "text": [
            "[44, 47, 52, 53, 54]\n"
          ]
        }
      ],
      "source": [
        "speed = {'jan': 47, 'feb': 52, 'march': 47, 'April': 44, 'May': 52, 'June': 53, 'july': 54, 'Aug': 44, 'Sept': 54}\n",
        "\n",
        "valores_unicos = set(speed.values())\n",
        "\n",
        "lista_valores_unicos = list(valores_unicos)\n",
        "\n",
        "print(lista_valores_unicos)"
      ]
    },
    {
      "cell_type": "markdown",
      "metadata": {
        "id": "v1iSFvCiLJaR"
      },
      "source": [
        "### EXERCÍCIO 19"
      ]
    },
    {
      "cell_type": "code",
      "execution_count": null,
      "metadata": {
        "colab": {
          "base_uri": "https://localhost:8080/"
        },
        "id": "PzmT9aAaLJ9_",
        "outputId": "88aa1d1c-c037-4b94-a5dd-934d6458e29b"
      },
      "outputs": [
        {
          "name": "stdout",
          "output_type": "stream",
          "text": [
            "Media: 245.36, Mediana: 257.5, Mínimo: 0, Máximo: 498\n"
          ]
        }
      ],
      "source": [
        "import random\n",
        "\n",
        "random_list = random.sample(range(500), 50)\n",
        "\n",
        "random_list.sort()\n",
        "\n",
        "valor_minimo = min(random_list)\n",
        "valor_maximo = max(random_list)\n",
        "media = sum(random_list) / len(random_list)\n",
        "\n",
        "middle_index = len(random_list) // 2\n",
        "\n",
        "if len(random_list) % 2 == 0:\n",
        "    mediana = (random_list[middle_index - 1] + random_list[middle_index]) / 2\n",
        "else:\n",
        "    mediana = random_list[middle_index]\n",
        "\n",
        "print(f\"Media: {media}, Mediana: {mediana}, Mínimo: {valor_minimo}, Máximo: {valor_maximo}\")"
      ]
    },
    {
      "cell_type": "markdown",
      "metadata": {
        "id": "s72aJ7qiLgbr"
      },
      "source": [
        "### EXERCÍCIO 20"
      ]
    },
    {
      "cell_type": "code",
      "execution_count": null,
      "metadata": {
        "colab": {
          "base_uri": "https://localhost:8080/"
        },
        "id": "fvXX28qgLg10",
        "outputId": "bee1680b-c3c3-472c-98a8-d1c0a4d0e60a"
      },
      "outputs": [
        {
          "name": "stdout",
          "output_type": "stream",
          "text": [
            "[89, 55, 34, 21, 13, 8, 5, 3, 2, 0, 1]\n"
          ]
        }
      ],
      "source": [
        "a = [1, 0, 2, 3, 5, 8, 13, 21, 34, 55, 89]\n",
        "\n",
        "print(a[::-1])"
      ]
    },
    {
      "cell_type": "markdown",
      "metadata": {
        "id": "3Z_VZyRFLpDi"
      },
      "source": [
        "### EXERCÍCIO 21"
      ]
    },
    {
      "cell_type": "code",
      "execution_count": null,
      "metadata": {
        "colab": {
          "base_uri": "https://localhost:8080/"
        },
        "id": "UbIbKv--LpYZ",
        "outputId": "1d7fbcee-b349-4c76-ba43-5c629cec5b62"
      },
      "outputs": [
        {
          "name": "stdout",
          "output_type": "stream",
          "text": [
            "Pato\n",
            "Voando...\n",
            "Pato emitindo som...\n",
            "Quack Quack\n",
            "\n",
            "Pardal\n",
            "Voando...\n",
            "Pardal emitindo som...\n",
            "Piu Piu\n"
          ]
        }
      ],
      "source": [
        "class Passaro:\n",
        "    def voar(self):\n",
        "        print(\"Voando...\")\n",
        "\n",
        "    def emitir_som(self):\n",
        "        pass\n",
        "\n",
        "class Pato(Passaro):\n",
        "    def emitir_som(self):\n",
        "        print(\"Pato emitindo som...\")\n",
        "        print(\"Quack Quack\")\n",
        "\n",
        "class Pardal(Passaro):\n",
        "    def emitir_som(self):\n",
        "        print(\"Pardal emitindo som...\")\n",
        "        print(\"Piu Piu\")\n",
        "\n",
        "print(\"Pato\")\n",
        "pato = Pato()\n",
        "pato.voar()\n",
        "pato.emitir_som()\n",
        "\n",
        "print(\"\\nPardal\")\n",
        "pardal = Pardal()\n",
        "pardal.voar()\n",
        "pardal.emitir_som()\n"
      ]
    },
    {
      "cell_type": "markdown",
      "metadata": {
        "id": "Y6_KyY2PL3p8"
      },
      "source": [
        "### EXERCÍCIO 22"
      ]
    },
    {
      "cell_type": "code",
      "execution_count": null,
      "metadata": {
        "colab": {
          "base_uri": "https://localhost:8080/"
        },
        "id": "8fs7mbJtL2rz",
        "outputId": "83197632-a1b4-4478-f6f9-4bcb3b3ac415"
      },
      "outputs": [
        {
          "name": "stdout",
          "output_type": "stream",
          "text": [
            "Fulano De Tal\n"
          ]
        }
      ],
      "source": [
        "class Pessoa:\n",
        "    def __init__(self, id):\n",
        "        self.id = id\n",
        "        self.__nome = None\n",
        "\n",
        "    @property\n",
        "    def nome(self):\n",
        "        return self.__nome\n",
        "\n",
        "    @nome.setter\n",
        "    def nome(self, novo_nome):\n",
        "        self.__nome = novo_nome\n",
        "\n",
        "pessoa = Pessoa(0)\n",
        "pessoa.nome = 'Fulano De Tal'\n",
        "print(pessoa.nome)"
      ]
    },
    {
      "cell_type": "markdown",
      "metadata": {
        "id": "oQkjU4koMAfk"
      },
      "source": [
        "### EXERCÍCIO 23"
      ]
    },
    {
      "cell_type": "code",
      "execution_count": null,
      "metadata": {
        "colab": {
          "base_uri": "https://localhost:8080/"
        },
        "id": "JJD9cOEjMA8D",
        "outputId": "1e4e892a-168f-4877-930f-357f482c9687"
      },
      "outputs": [
        {
          "name": "stdout",
          "output_type": "stream",
          "text": [
            "Somando: 4 + 5 = 9\n",
            "Subtraindo: 4 - 5 = -1\n"
          ]
        }
      ],
      "source": [
        "class Calculo:\n",
        "    def soma(self, x, y):\n",
        "        return x + y\n",
        "\n",
        "    def subtracao(self, x, y):\n",
        "        return x - y\n",
        "\n",
        "x = 4\n",
        "y = 5\n",
        "\n",
        "calc = Calculo()\n",
        "resultado_soma = calc.soma(x, y)\n",
        "resultado_subtracao = calc.subtracao(x, y)\n",
        "\n",
        "print(f\"Somando: {x} + {y} = {resultado_soma}\")\n",
        "print(f\"Subtraindo: {x} - {y} = {resultado_subtracao}\")\n"
      ]
    },
    {
      "cell_type": "markdown",
      "metadata": {
        "id": "6dcNaOPuMKu0"
      },
      "source": [
        "### EXERCÍCIO 24"
      ]
    },
    {
      "cell_type": "code",
      "execution_count": null,
      "metadata": {
        "colab": {
          "base_uri": "https://localhost:8080/"
        },
        "id": "C48_6GOBMJ2L",
        "outputId": "20fb56b2-688f-4940-8dfa-c8fa4dd518b0"
      },
      "outputs": [
        {
          "name": "stdout",
          "output_type": "stream",
          "text": [
            "[1, 2, 3, 4, 5]\n",
            "[9, 8, 7, 6]\n"
          ]
        }
      ],
      "source": [
        "class Ordenadora:\n",
        "    def __init__(self, listaBaguncada):\n",
        "        self.listaBaguncada = listaBaguncada\n",
        "\n",
        "    def ordenacaoCrescente(self):\n",
        "        return sorted(self.listaBaguncada)\n",
        "\n",
        "    def ordenacaoDecrescente(self):\n",
        "        return sorted(self.listaBaguncada, reverse=True)\n",
        "\n",
        "crescente = Ordenadora([3, 4, 2, 1, 5])\n",
        "decrescente = Ordenadora([9, 7, 6, 8])\n",
        "\n",
        "print(crescente.ordenacaoCrescente())\n",
        "print(decrescente.ordenacaoDecrescente())\n"
      ]
    },
    {
      "cell_type": "markdown",
      "metadata": {
        "id": "WWaq3w0dMVN1"
      },
      "source": [
        "### EXERCÍCIO 25"
      ]
    },
    {
      "cell_type": "code",
      "execution_count": null,
      "metadata": {
        "colab": {
          "base_uri": "https://localhost:8080/"
        },
        "id": "DVhsxVFTMVrX",
        "outputId": "62609c7f-7941-4c7a-cb8a-2014c04db82f"
      },
      "outputs": [
        {
          "name": "stdout",
          "output_type": "stream",
          "text": [
            "O avião de modelo \"BOIENG456\" possui uma velocidade máxima de \"1500 km/h\", capacidade para \"400\" passageiros e é da cor \"Azul\".\n",
            "O avião de modelo \"Embraer Praetor 600\" possui uma velocidade máxima de \"863 km/h\", capacidade para \"14\" passageiros e é da cor \"Azul\".\n",
            "O avião de modelo \"Antonov An-2\" possui uma velocidade máxima de \"258 km/h\", capacidade para \"12\" passageiros e é da cor \"Azul\".\n"
          ]
        }
      ],
      "source": [
        "class Aviao:\n",
        "    def __init__(self, modelo, velocidade_maxima, capacidade):\n",
        "        self.modelo = modelo\n",
        "        self.velocidade_maxima = velocidade_maxima\n",
        "        self.capacidade = capacidade\n",
        "        self.cor = \"Azul\"\n",
        "\n",
        "aviao1 = Aviao(\"BOIENG456\", \"1500 km/h\", 400)\n",
        "aviao2 = Aviao(\"Embraer Praetor 600\", \"863 km/h\", 14)\n",
        "aviao3 = Aviao(\"Antonov An-2\", \"258 km/h\", 12)\n",
        "\n",
        "lista_avioes = [aviao1, aviao2, aviao3]\n",
        "\n",
        "for aviao in lista_avioes:\n",
        "    print(f\"O avião de modelo \\\"{aviao.modelo}\\\" possui uma velocidade máxima de \\\"{aviao.velocidade_maxima}\\\", capacidade para \\\"{aviao.capacidade}\\\" passageiros e é da cor \\\"{aviao.cor}\\\".\")"
      ]
    }
  ],
  "metadata": {
    "colab": {
      "provenance": []
    },
    "kernelspec": {
      "display_name": "Python 3",
      "name": "python3"
    },
    "language_info": {
      "codemirror_mode": {
        "name": "ipython",
        "version": 3
      },
      "file_extension": ".py",
      "mimetype": "text/x-python",
      "name": "python",
      "nbconvert_exporter": "python",
      "pygments_lexer": "ipython3",
      "version": "3.11.7"
    }
  },
  "nbformat": 4,
  "nbformat_minor": 0
}
