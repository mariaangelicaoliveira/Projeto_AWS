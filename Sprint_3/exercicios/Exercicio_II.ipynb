{
  "cells": [
    {
      "cell_type": "markdown",
      "metadata": {},
      "source": [
        "# Exercício Python "
      ]
    },
    {
      "cell_type": "code",
      "execution_count": 1,
      "metadata": {
        "id": "tsCMDk13A7dO"
      },
      "outputs": [],
      "source": [
        "# Abrir o arquivo CSV e ler as linhas\n",
        "from collections import Counter\n",
        "\n",
        "with open('actors.csv', 'r') as file:\n",
        "    linhas = file.readlines()\n"
      ]
    },
    {
      "cell_type": "code",
      "execution_count": 2,
      "metadata": {
        "id": "rsfOLOG9Dwah"
      },
      "outputs": [],
      "source": [
        "# Inicializar variáveis para armazenar o ator com o maior número de filmes e a quantidade de filmes\n",
        "ator_mais_filmes = None\n",
        "maior_numero_filmes = 0\n",
        "\n",
        "# Media da bilheteria bruta\n",
        "totalAtores=0\n",
        "totalBilheteria=0\n",
        "\n",
        "# Maior avarage\n",
        "ator_mair_avg = None\n",
        "maior_avg = 0\n",
        "\n",
        "lista = []"
      ]
    },
    {
      "cell_type": "code",
      "execution_count": 3,
      "metadata": {
        "id": "MMzdH4OMDz-y"
      },
      "outputs": [],
      "source": [
        "# Iterar sobre as linhas do arquivo, ignorando o cabeçalho\n",
        "for linha in linhas[1:]:\n",
        "    # Separar os valores da linha\n",
        "    valores = linha.strip().split(',')\n",
        "    lista.append(valores)\n",
        "    # Extrair o nome do ator e o número de filmes\n",
        "    ator = valores[0]\n",
        "    num_filmes = int(valores[2])\n",
        "    # Verificar se o ator atual tem mais filmes do que o registrado anteriormente\n",
        "    if num_filmes > maior_numero_filmes:\n",
        "        ator_mais_filmes = ator\n",
        "        maior_numero_filmes = num_filmes\n",
        "\n",
        "    #total media autores\n",
        "    totalAtores += 1\n",
        "    totalBilheteria = float(valores[5])\n",
        "\n",
        "    #MAIOR AVARAGE\n",
        "    avg_per_movie = float(valores[3])\n",
        "    if maior_avg < avg_per_movie:\n",
        "        maior_avg = avg_per_movie\n",
        "        ator_mair_avg = ator\n",
        "totalGross = totalBilheteria/totalAtores"
      ]
    },
    {
      "cell_type": "code",
      "execution_count": 4,
      "metadata": {
        "id": "fWVKH7E8D4q5"
      },
      "outputs": [],
      "source": [
        "#faz o tratamento das linhas e faz a contagem\n",
        "contador = Counter(linha[4] for linha in lista)\n",
        "lista_contagem = list(contador.items())\n",
        "#ordena pela quantidade de vezes que o filme aparece\n",
        "lista_contagem.sort(key=lambda x: x[1], reverse=True)"
      ]
    },
    {
      "cell_type": "code",
      "execution_count": 5,
      "metadata": {
        "id": "9L40O9ixD5bb"
      },
      "outputs": [
        {
          "name": "stdout",
          "output_type": "stream",
          "text": [
            "O ator com o maior número de filmes é Robert DeNiro com 79 filmes.\n"
          ]
        }
      ],
      "source": [
        "#Etapa 1\n",
        "# Imprimir o ator com o maior número de filmes\n",
        "print(f'O ator com o maior número de filmes é {ator_mais_filmes} com {maior_numero_filmes} filmes.')"
      ]
    },
    {
      "cell_type": "code",
      "execution_count": 6,
      "metadata": {
        "id": "wEggFq_dD_I8"
      },
      "outputs": [
        {
          "name": "stdout",
          "output_type": "stream",
          "text": [
            "A media é 8.962\n"
          ]
        }
      ],
      "source": [
        "#Etapa 2\n",
        "print(f'A media é {totalGross}')"
      ]
    },
    {
      "cell_type": "code",
      "execution_count": 7,
      "metadata": {
        "id": "70fl4VdmD_tY"
      },
      "outputs": [
        {
          "name": "stdout",
          "output_type": "stream",
          "text": [
            "O ator com o maior Average por filme é Anthony Daniels com 451.8 de Average.\n"
          ]
        }
      ],
      "source": [
        "#Etapa 3\n",
        "print(f'O ator com o maior Average por filme é {ator_mair_avg} com {maior_avg} de Average.')"
      ]
    },
    {
      "cell_type": "code",
      "execution_count": 8,
      "metadata": {
        "id": "O5q7FXjJECOF"
      },
      "outputs": [
        {
          "name": "stdout",
          "output_type": "stream",
          "text": [
            "O filme The Avengers aparece 6 vez(es) no dataset\n",
            "O filme Catching Fire aparece 4 vez(es) no dataset\n",
            "O filme Harry Potter / Deathly Hallows (P2) aparece 4 vez(es) no dataset\n",
            "O filme Star Wars: The Force Awakens aparece 3 vez(es) no dataset\n",
            "O filme The Dark Knight aparece 3 vez(es) no dataset\n",
            "O filme Meet the Fockers aparece 3 vez(es) no dataset\n",
            "O filme Shrek 2 aparece 2 vez(es) no dataset\n",
            "O filme Dead Man's Chest aparece 2 vez(es) no dataset\n",
            "O filme Night at the Museum aparece 2 vez(es) no dataset\n",
            "O filme Return of the King aparece 2 vez(es) no dataset\n",
            "O filme Avengers: Age of Ultron aparece 2 vez(es) no dataset\n",
            "O filme Toy Story 3 aparece 1 vez(es) no dataset\n",
            "O filme War of the Worlds aparece 1 vez(es) no dataset\n",
            "O filme Sixth Sense aparece 1 vez(es) no dataset\n",
            "O filme Independence Day aparece 1 vez(es) no dataset\n",
            "O filme The Martian aparece 1 vez(es) no dataset\n",
            "O filme The Phantom Menace aparece 1 vez(es) no dataset\n",
            "O filme Ocean's Eleven aparece 1 vez(es) no dataset\n",
            "O filme Men in Black aparece 1 vez(es) no dataset\n",
            "O filme World War Z aparece 1 vez(es) no dataset\n",
            "O filme Hotel Transylvania 2 aparece 1 vez(es) no dataset\n",
            "O filme The LEGO Movie aparece 1 vez(es) no dataset\n",
            "O filme American Sniper aparece 1 vez(es) no dataset\n",
            "O filme Transformers 4 aparece 1 vez(es) no dataset\n",
            "O filme The Grinch aparece 1 vez(es) no dataset\n",
            "O filme Titanic aparece 1 vez(es) no dataset\n",
            "O filme Minions aparece 1 vez(es) no dataset\n",
            "O filme The Dark Knight Rises aparece 1 vez(es) no dataset\n"
          ]
        }
      ],
      "source": [
        "#Etapa 4\n",
        "#exibe os filmes mais apareceram na lista\n",
        "for lis in lista_contagem:\n",
        "    print(f\"O filme {lis[0]} aparece {lis[1]} vez(es) no dataset\")"
      ]
    },
    {
      "cell_type": "code",
      "execution_count": 9,
      "metadata": {
        "id": "FN4Ik2EwEErT"
      },
      "outputs": [
        {
          "name": "stdout",
          "output_type": "stream",
          "text": [
            "Harrison Ford - 4871.70 \n",
            "Samuel L. Jackson - 4772.80 \n",
            "Morgan Freeman - 4468.30 \n",
            "Tom Hanks - 4340.80 \n",
            "Robert Downey Jr. - 3947.30 \n",
            "Eddie Murphy - 3810.40 \n",
            "Tom Cruise - 3587.20 \n",
            "Johnny Depp - 3368.60 \n",
            "Michael Caine - 3351.50 \n",
            "Scarlett Johansson - 3341.20 \n",
            "Gary Oldman - 3294.00 \n",
            "Robin Williams - 3279.30 \n",
            "Bruce Willis - 3189.40 \n",
            "Stellan Skarsgard - 3175.00 \n",
            "Anthony Daniels - 3162.90 \n",
            "Ian McKellen - 3150.40 \n",
            "Will Smith - 3149.10 \n",
            "Stanley Tucci - 3123.90 \n",
            "Matt Damon - 3107.30 \n",
            "Robert DeNiro - 3081.30 \n",
            "Cameron Diaz - 3031.70 \n",
            "Liam Neeson - 2942.70 \n",
            "Andy Serkis - 2890.60 \n",
            "Don Cheadle - 2885.40 \n",
            "Ben Stiller - 2827.00 \n",
            "Helena Bonham Carter - 2822.00 \n",
            "Orlando Bloom - 2815.80 \n",
            "Woody Harrelson - 2815.80 \n",
            "Cate Blanchett - 2802.60 \n",
            "Julia Roberts - 2735.30 \n",
            "Elizabeth Banks - 2726.30 \n",
            "Ralph Fiennes - 2715.30 \n",
            "Emma Watson - 2681.90 \n",
            "Tommy Lee Jones - 2681.30 \n",
            "Brad Pitt - 2680.90 \n",
            "Adam Sandler - 2661.00 \n",
            "Daniel Radcliffe - 2634.40 \n",
            "Jonah Hill - 2605.10 \n",
            "Owen Wilson - 2602.30 \n",
            "Idris Elba - 2580.60 \n",
            "Bradley Cooper - 2557.70 \n",
            "Mark Wahlberg - 2549.80 \n",
            "Jim Carrey - 2545.20 \n",
            "Dustin Hoffman - 2522.10 \n",
            "Leonardo DiCaprio - 2518.30 \n",
            "Jeremy Renner - 2500.30 \n",
            "Philip Seymour Hoffman - 2463.70 \n",
            "Sandra Bullock - 2462.60 \n",
            "Chris Evans - 2457.80 \n",
            "Anne Hathaway - 2416.50 \n"
          ]
        }
      ],
      "source": [
        "#Etapa 5\n",
        "lista.sort(key=lambda x: x[1], reverse=True)\n",
        "for lis in lista:\n",
        "    print(f\"{lis[0]} - {lis[1]}\")"
      ]
    }
  ],
  "metadata": {
    "colab": {
      "provenance": []
    },
    "kernelspec": {
      "display_name": "Python 3",
      "name": "python3"
    },
    "language_info": {
      "codemirror_mode": {
        "name": "ipython",
        "version": 3
      },
      "file_extension": ".py",
      "mimetype": "text/x-python",
      "name": "python",
      "nbconvert_exporter": "python",
      "pygments_lexer": "ipython3",
      "version": "3.11.7"
    }
  },
  "nbformat": 4,
  "nbformat_minor": 0
}
