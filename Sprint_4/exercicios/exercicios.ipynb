{
  "cells": [
    {
      "cell_type": "markdown",
      "metadata": {
        "id": "d1RJNpN54Fex"
      },
      "source": [
        "# Exercício 1\n"
      ]
    },
    {
      "cell_type": "code",
      "execution_count": null,
      "metadata": {
        "id": "-FaeCnZ26KZS"
      },
      "outputs": [],
      "source": [
        "with open('number.txt') as data:\n",
        "    numeros = list(map(int, data.readlines()))\n",
        "\n",
        "pares = list(filter(lambda x: x % 2 == 0, numeros))\n",
        "pares_ordenados = sorted(pares, reverse=True)\n",
        "cinco_maiores = pares_ordenados[:5]\n",
        "soma_cinco_maiores = sum(cinco_maiores)\n",
        "\n",
        "print(cinco_maiores)\n",
        "print(soma_cinco_maiores)"
      ]
    },
    {
      "cell_type": "markdown",
      "metadata": {
        "id": "wQ2rD44l4udP"
      },
      "source": [
        "# Exercício 2\n"
      ]
    },
    {
      "cell_type": "code",
      "execution_count": null,
      "metadata": {
        "id": "u109ns1y4n1-"
      },
      "outputs": [],
      "source": [
        "def conta_vogais(texto: str) -> int:\n",
        "    eh_vogal = lambda x: x.lower() in 'aeiou'\n",
        "    numero_vogais = len(list(filter(eh_vogal, texto)))\n",
        "    return numero_vogais\n",
        "\n",
        "texto_teste = \"Python is awesome\"\n",
        "print(\"Número de vogais:\", conta_vogais(texto_teste))"
      ]
    },
    {
      "cell_type": "markdown",
      "metadata": {
        "id": "uOZc1xPq41wm"
      },
      "source": [
        "# Exercício 3\n"
      ]
    },
    {
      "cell_type": "code",
      "execution_count": null,
      "metadata": {
        "id": "CopA6PqX5BAC"
      },
      "outputs": [],
      "source": [
        "from functools import reduce\n",
        "\n",
        "def calcula_saldo(lancamentos) -> float:\n",
        "    valores_mapeados = map(lambda x: x[0] if x[1] == 'C' else -x[0], lancamentos)\n",
        "    saldo_final = reduce(lambda x, y: x + y, valores_mapeados, 0)\n",
        "    return saldo_final\n",
        "\n",
        "lancamentos = [\n",
        "    (200, 'D'),\n",
        "    (300, 'C'),\n",
        "    (100, 'C')\n",
        "]\n",
        "\n",
        "print(\"Saldo final:\", calcula_saldo(lancamentos))\n"
      ]
    },
    {
      "cell_type": "markdown",
      "metadata": {
        "id": "zkxNaq0e43p_"
      },
      "source": [
        "# Exercício 4"
      ]
    },
    {
      "cell_type": "code",
      "execution_count": null,
      "metadata": {
        "id": "zyazWf-z5AOc"
      },
      "outputs": [],
      "source": [
        "def calcular_valor_maximo(operadores, operandos) -> float:\n",
        "    resultados = list(map(lambda x: eval(f'{x[0][0]}{x[1]}{x[0][1]}'), zip(operandos, operadores)))\n",
        "    return max(resultados)\n",
        "\n",
        "operadores = ['+', '-', '*', '/', '+']\n",
        "operandos = [(3, 6), (-7, 4.9), (8, -8), (10, 2), (8, 4)]\n",
        "\n",
        "print(\"Maior valor resultante:\", calcular_valor_maximo(operadores, operandos))\n"
      ]
    },
    {
      "cell_type": "markdown",
      "metadata": {
        "id": "Ugo0J5Fj45Fw"
      },
      "source": [
        "# Exercício 5"
      ]
    },
    {
      "cell_type": "code",
      "execution_count": null,
      "metadata": {
        "id": "aeakjXlE4_jN"
      },
      "outputs": [],
      "source": [
        "def processar_dados_estudantes(caminho_arquivo):\n",
        "    with open(caminho_arquivo, 'r') as arquivo_csv:\n",
        "        linhas = arquivo_csv.readlines()\n",
        "\n",
        "    linhas = sorted(linhas)\n",
        "\n",
        "    for linha in linhas:\n",
        "        dados = linha.strip().split(',')\n",
        "        nome_estudante = dados[0]\n",
        "        notas = list(map(int, dados[1:]))\n",
        "        notas = sorted(notas, reverse=True)\n",
        "        tres_maiores_notas = notas[:3]\n",
        "        media = round(sum(tres_maiores_notas) / len(tres_maiores_notas), 2)\n",
        "\n",
        "        print(f\"Nome: {nome_estudante} Notas: {tres_maiores_notas} Média: {media}\")\n",
        "\n",
        "processar_dados_estudantes(\"estudantes.csv\")\n"
      ]
    },
    {
      "cell_type": "markdown",
      "metadata": {
        "id": "wLoS4_NN46p9"
      },
      "source": [
        "# Exercício 6"
      ]
    },
    {
      "cell_type": "code",
      "execution_count": null,
      "metadata": {
        "id": "zcw7zdws4-7u"
      },
      "outputs": [],
      "source": [
        "def maiores_que_media(conteudo: dict) -> list:\n",
        "    media = sum(conteudo.values()) / len(conteudo)\n",
        "    produtos_acima_media = [(produto, preco) for produto, preco in conteudo.items() if preco > media]\n",
        "    produtos_acima_media.sort(key=lambda x: x[1])\n",
        "    return produtos_acima_media\n"
      ]
    },
    {
      "cell_type": "markdown",
      "metadata": {
        "id": "zLGFo-tA4780"
      },
      "source": [
        "# Exercício 7"
      ]
    },
    {
      "cell_type": "code",
      "execution_count": null,
      "metadata": {
        "id": "Z076vos0491w"
      },
      "outputs": [],
      "source": [
        "def pares_ate(n: int):\n",
        "    n = max(2, n)\n",
        "    for i in range(2, n + 1, 2):\n",
        "        yield i"
      ]
    }
  ],
  "metadata": {
    "colab": {
      "provenance": []
    },
    "kernelspec": {
      "display_name": "Python 3",
      "name": "python3"
    },
    "language_info": {
      "name": "python"
    }
  },
  "nbformat": 4,
  "nbformat_minor": 0
}
